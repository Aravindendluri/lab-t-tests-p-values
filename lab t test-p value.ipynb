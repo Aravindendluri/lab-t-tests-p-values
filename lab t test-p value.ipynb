{
 "cells": [
  {
   "cell_type": "code",
   "execution_count": 44,
   "id": "c9bed29a",
   "metadata": {},
   "outputs": [],
   "source": [
    "# importing libraries\n",
    "import pandas as pd\n",
    "import numpy as np\n",
    "import scipy.stats as st\n",
    "import matplotlib.pyplot as plt\n",
    "import seaborn as sns\n",
    "import warnings\n",
    "warnings.filterwarnings('ignore')"
   ]
  },
  {
   "cell_type": "code",
   "execution_count": 45,
   "id": "5dfb9ec2",
   "metadata": {},
   "outputs": [
    {
     "data": {
      "text/html": [
       "<div>\n",
       "<style scoped>\n",
       "    .dataframe tbody tr th:only-of-type {\n",
       "        vertical-align: middle;\n",
       "    }\n",
       "\n",
       "    .dataframe tbody tr th {\n",
       "        vertical-align: top;\n",
       "    }\n",
       "\n",
       "    .dataframe thead th {\n",
       "        text-align: right;\n",
       "    }\n",
       "</style>\n",
       "<table border=\"1\" class=\"dataframe\">\n",
       "  <thead>\n",
       "    <tr style=\"text-align: right;\">\n",
       "      <th></th>\n",
       "      <th>New machine</th>\n",
       "      <th>Old machine</th>\n",
       "    </tr>\n",
       "  </thead>\n",
       "  <tbody>\n",
       "    <tr>\n",
       "      <th>0</th>\n",
       "      <td>42.1</td>\n",
       "      <td>42.7</td>\n",
       "    </tr>\n",
       "    <tr>\n",
       "      <th>1</th>\n",
       "      <td>41.0</td>\n",
       "      <td>43.6</td>\n",
       "    </tr>\n",
       "    <tr>\n",
       "      <th>2</th>\n",
       "      <td>41.3</td>\n",
       "      <td>43.8</td>\n",
       "    </tr>\n",
       "    <tr>\n",
       "      <th>3</th>\n",
       "      <td>41.8</td>\n",
       "      <td>43.3</td>\n",
       "    </tr>\n",
       "    <tr>\n",
       "      <th>4</th>\n",
       "      <td>42.4</td>\n",
       "      <td>42.5</td>\n",
       "    </tr>\n",
       "    <tr>\n",
       "      <th>5</th>\n",
       "      <td>42.8</td>\n",
       "      <td>43.5</td>\n",
       "    </tr>\n",
       "    <tr>\n",
       "      <th>6</th>\n",
       "      <td>43.2</td>\n",
       "      <td>43.1</td>\n",
       "    </tr>\n",
       "    <tr>\n",
       "      <th>7</th>\n",
       "      <td>42.3</td>\n",
       "      <td>41.7</td>\n",
       "    </tr>\n",
       "    <tr>\n",
       "      <th>8</th>\n",
       "      <td>41.8</td>\n",
       "      <td>44.0</td>\n",
       "    </tr>\n",
       "    <tr>\n",
       "      <th>9</th>\n",
       "      <td>42.7</td>\n",
       "      <td>44.1</td>\n",
       "    </tr>\n",
       "  </tbody>\n",
       "</table>\n",
       "</div>"
      ],
      "text/plain": [
       "   New machine      Old machine\n",
       "0         42.1             42.7\n",
       "1         41.0             43.6\n",
       "2         41.3             43.8\n",
       "3         41.8             43.3\n",
       "4         42.4             42.5\n",
       "5         42.8             43.5\n",
       "6         43.2             43.1\n",
       "7         42.3             41.7\n",
       "8         41.8             44.0\n",
       "9         42.7             44.1"
      ]
     },
     "execution_count": 45,
     "metadata": {},
     "output_type": "execute_result"
    }
   ],
   "source": [
    "#Reading the file into python as dataframe\n",
    "machine_df = pd.read_csv(\"machine.txt\", encoding='utf=16', sep= '\\t')\n",
    "machine_df"
   ]
  },
  {
   "cell_type": "code",
   "execution_count": 46,
   "id": "ff3cf738",
   "metadata": {},
   "outputs": [
    {
     "data": {
      "text/plain": [
       "['new_machine', 'old_machine']"
      ]
     },
     "execution_count": 46,
     "metadata": {},
     "output_type": "execute_result"
    }
   ],
   "source": [
    "# Standardizing header-column names in the dataframe by using only lowercase letters and by replacing the spaces with underscores\n",
    "machine_df.columns = [machine_df.columns[i].lower().replace('    ','').replace(' ', '_') for i in range(len(machine_df.columns))]\n",
    "list(machine_df.columns)"
   ]
  },
  {
   "cell_type": "code",
   "execution_count": 47,
   "id": "846b634b",
   "metadata": {},
   "outputs": [],
   "source": [
    "# the observations per machine in 2 separate variables:\n",
    "new_machine = machine_df['new_machine']\n",
    "old_machine = machine_df['old_machine']"
   ]
  },
  {
   "cell_type": "code",
   "execution_count": 48,
   "id": "89216a9b",
   "metadata": {},
   "outputs": [
    {
     "data": {
      "text/html": [
       "<div>\n",
       "<style scoped>\n",
       "    .dataframe tbody tr th:only-of-type {\n",
       "        vertical-align: middle;\n",
       "    }\n",
       "\n",
       "    .dataframe tbody tr th {\n",
       "        vertical-align: top;\n",
       "    }\n",
       "\n",
       "    .dataframe thead th {\n",
       "        text-align: right;\n",
       "    }\n",
       "</style>\n",
       "<table border=\"1\" class=\"dataframe\">\n",
       "  <thead>\n",
       "    <tr style=\"text-align: right;\">\n",
       "      <th></th>\n",
       "      <th>new_machine</th>\n",
       "      <th>old_machine</th>\n",
       "    </tr>\n",
       "  </thead>\n",
       "  <tbody>\n",
       "    <tr>\n",
       "      <th>count</th>\n",
       "      <td>10.000000</td>\n",
       "      <td>10.000000</td>\n",
       "    </tr>\n",
       "    <tr>\n",
       "      <th>mean</th>\n",
       "      <td>42.140000</td>\n",
       "      <td>43.230000</td>\n",
       "    </tr>\n",
       "    <tr>\n",
       "      <th>std</th>\n",
       "      <td>0.683455</td>\n",
       "      <td>0.749889</td>\n",
       "    </tr>\n",
       "    <tr>\n",
       "      <th>min</th>\n",
       "      <td>41.000000</td>\n",
       "      <td>41.700000</td>\n",
       "    </tr>\n",
       "    <tr>\n",
       "      <th>25%</th>\n",
       "      <td>41.800000</td>\n",
       "      <td>42.800000</td>\n",
       "    </tr>\n",
       "    <tr>\n",
       "      <th>50%</th>\n",
       "      <td>42.200000</td>\n",
       "      <td>43.400000</td>\n",
       "    </tr>\n",
       "    <tr>\n",
       "      <th>75%</th>\n",
       "      <td>42.625000</td>\n",
       "      <td>43.750000</td>\n",
       "    </tr>\n",
       "    <tr>\n",
       "      <th>max</th>\n",
       "      <td>43.200000</td>\n",
       "      <td>44.100000</td>\n",
       "    </tr>\n",
       "  </tbody>\n",
       "</table>\n",
       "</div>"
      ],
      "text/plain": [
       "       new_machine  old_machine\n",
       "count    10.000000    10.000000\n",
       "mean     42.140000    43.230000\n",
       "std       0.683455     0.749889\n",
       "min      41.000000    41.700000\n",
       "25%      41.800000    42.800000\n",
       "50%      42.200000    43.400000\n",
       "75%      42.625000    43.750000\n",
       "max      43.200000    44.100000"
      ]
     },
     "execution_count": 48,
     "metadata": {},
     "output_type": "execute_result"
    }
   ],
   "source": [
    "\n",
    "# Let's describe the data, we will keep the means and the standard deviations of the machines.\n",
    "machine_df.describe()\n",
    "# The New machine's mean is 42.14 and its standard deviation is 0.68\n",
    "# The Old machine's mean is 43.23 and its standard deviation is 0.75, approximately"
   ]
  },
  {
   "cell_type": "code",
   "execution_count": 49,
   "id": "8fc0b657",
   "metadata": {},
   "outputs": [
    {
     "name": "stdout",
     "output_type": "stream",
     "text": [
      "n: 10 , mean: 42.14 , standard deviation:  0.6483826030978941\n"
     ]
    }
   ],
   "source": [
    "# n , mean and standard deviation of the first sample (new_machine)\n",
    "print('n:', len(new_machine),', mean:', np.mean(new_machine), ', standard deviation: ',np.std(new_machine))"
   ]
  },
  {
   "cell_type": "code",
   "execution_count": 50,
   "id": "f3f84e15",
   "metadata": {},
   "outputs": [
    {
     "name": "stdout",
     "output_type": "stream",
     "text": [
      "n: 10 , mean: 43.230000000000004 , standard deviation:  0.7114070564732956\n"
     ]
    }
   ],
   "source": [
    "# n , mean and standard deviation of the second sample (old_machine)\n",
    "print('n:', len(old_machine), ', mean:', np.mean(old_machine), ', standard deviation: ',np.std(old_machine))"
   ]
  },
  {
   "cell_type": "code",
   "execution_count": 51,
   "id": "f099b115",
   "metadata": {},
   "outputs": [
    {
     "name": "stdout",
     "output_type": "stream",
     "text": [
      "New machine's mean is 42.14\n",
      "Old machine's mean is 43.23\n",
      "New machine's standard deviation is 0.65\n",
      "Old machine's standard deviation is 0.71\n"
     ]
    }
   ],
   "source": [
    "print(\"New machine's mean is {:.2f}\".format(np.mean(new_machine)))\n",
    "print(\"Old machine's mean is {:.2f}\".format(np.mean(old_machine)))\n",
    "print(\"New machine's standard deviation is {:.2f}\".format(np.std(new_machine)))\n",
    "print(\"Old machine's standard deviation is {:.2f}\".format(np.std(old_machine)))"
   ]
  },
  {
   "cell_type": "code",
   "execution_count": 52,
   "id": "e7a4cd76",
   "metadata": {},
   "outputs": [],
   "source": [
    "# the Pooled Standard Deviation is:\n",
    "SDpooled_numerator = ( len(new_machine) - 1 ) * ( np.std(new_machine)**2 ) +  ( len(old_machine) - 1 ) * ( np.std(old_machine)**2 )\n",
    "SDpooled_no_root = SDpooled_numerator/( len(new_machine) + len(old_machine) - 2)\n",
    "SDpooled = np.sqrt(SDpooled_no_root)"
   ]
  },
  {
   "cell_type": "code",
   "execution_count": 53,
   "id": "6727721b",
   "metadata": {},
   "outputs": [],
   "source": [
    "# the Statistical value t is:\n",
    "t=(np.mean(new_machine)-np.mean(old_machine))/np.sqrt((SDpooled**2)/(len(new_machine)-1)+(SDpooled**2)/(len(old_machine)-1))"
   ]
  },
  {
   "cell_type": "code",
   "execution_count": 54,
   "id": "903341d2",
   "metadata": {},
   "outputs": [
    {
     "name": "stdout",
     "output_type": "stream",
     "text": [
      "The t statistic is: -3.40\n"
     ]
    }
   ],
   "source": [
    "print(\"The t statistic is: {:.2f}\".format(t))"
   ]
  },
  {
   "cell_type": "code",
   "execution_count": 55,
   "id": "0616b134",
   "metadata": {},
   "outputs": [
    {
     "data": {
      "text/plain": [
       "1.7340636066175354"
      ]
     },
     "execution_count": 55,
     "metadata": {},
     "output_type": "execute_result"
    }
   ],
   "source": [
    "# Percent point function\n",
    "Zc = st.t.ppf(1-(0.05),df = len(new_machine)+len(old_machine)-2)\n",
    "Zc"
   ]
  },
  {
   "cell_type": "code",
   "execution_count": 56,
   "id": "20cf778f",
   "metadata": {},
   "outputs": [
    {
     "data": {
      "text/plain": [
       "Ttest_indResult(statistic=-3.3972307061176026, pvalue=0.0016055712503872579)"
      ]
     },
     "execution_count": 56,
     "metadata": {},
     "output_type": "execute_result"
    }
   ],
   "source": [
    "# or easily, we use alternative='less' because it is an one-tailed test\n",
    "from scipy.stats import ttest_ind, norm\n",
    "ttest_ind(new_machine, old_machine, alternative='less')"
   ]
  },
  {
   "cell_type": "code",
   "execution_count": 57,
   "id": "067dbffe",
   "metadata": {},
   "outputs": [],
   "source": [
    "\n",
    "# we can notice that p-value is pvalue=0.0016055712503872579< a=0.05\n",
    "# So, we reject the null hypothesis and we accept the alternative hypothesis that\n",
    "# H1 (or Ha): μ < μ0 or that the new machine packs faster on the average than the machine currently used"
   ]
  },
  {
   "cell_type": "code",
   "execution_count": null,
   "id": "d4706208",
   "metadata": {},
   "outputs": [],
   "source": []
  }
 ],
 "metadata": {
  "kernelspec": {
   "display_name": "Python 3 (ipykernel)",
   "language": "python",
   "name": "python3"
  },
  "language_info": {
   "codemirror_mode": {
    "name": "ipython",
    "version": 3
   },
   "file_extension": ".py",
   "mimetype": "text/x-python",
   "name": "python",
   "nbconvert_exporter": "python",
   "pygments_lexer": "ipython3",
   "version": "3.9.7"
  }
 },
 "nbformat": 4,
 "nbformat_minor": 5
}
